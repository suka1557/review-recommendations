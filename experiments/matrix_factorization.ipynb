{
 "cells": [
  {
   "cell_type": "code",
   "execution_count": 4,
   "id": "26b001d8",
   "metadata": {},
   "outputs": [],
   "source": [
    "import os\n",
    "import sys\n",
    "import pandas as pd"
   ]
  },
  {
   "cell_type": "code",
   "execution_count": 8,
   "id": "52ed508d",
   "metadata": {},
   "outputs": [],
   "source": [
    "PROJECT_ROOT = os.path.join(\"/home/ar-in-u-301/Documents/codes\", \"review-recommendations\")\n",
    "DATA_PATH = os.path.join(PROJECT_ROOT, \"data\")"
   ]
  },
  {
   "cell_type": "code",
   "execution_count": 9,
   "id": "0b4247c2",
   "metadata": {},
   "outputs": [],
   "source": [
    "sys.path.append(PROJECT_ROOT)"
   ]
  },
  {
   "cell_type": "markdown",
   "id": "c4b587d9",
   "metadata": {},
   "source": [
    "# Let's look at how many data points we have , users and business"
   ]
  },
  {
   "cell_type": "code",
   "execution_count": 10,
   "id": "e2d75c83",
   "metadata": {},
   "outputs": [],
   "source": [
    "train = pd.read_feather(os.path.join(DATA_PATH, \"train_review.feather\"))"
   ]
  },
  {
   "cell_type": "code",
   "execution_count": 11,
   "id": "a078c0da",
   "metadata": {},
   "outputs": [
    {
     "data": {
      "text/plain": [
       "(1392850, 138212)"
      ]
     },
     "execution_count": 11,
     "metadata": {},
     "output_type": "execute_result"
    }
   ],
   "source": [
    "train['user_id'].nunique(), train['business_id'].nunique()"
   ]
  },
  {
   "cell_type": "markdown",
   "id": "c510b136",
   "metadata": {},
   "source": [
    "# Users: 14 Lakh, Business: 1.4 Lakh"
   ]
  },
  {
   "cell_type": "code",
   "execution_count": 12,
   "id": "be88612a",
   "metadata": {},
   "outputs": [
    {
     "data": {
      "text/html": [
       "<div>\n",
       "<style scoped>\n",
       "    .dataframe tbody tr th:only-of-type {\n",
       "        vertical-align: middle;\n",
       "    }\n",
       "\n",
       "    .dataframe tbody tr th {\n",
       "        vertical-align: top;\n",
       "    }\n",
       "\n",
       "    .dataframe thead th {\n",
       "        text-align: right;\n",
       "    }\n",
       "</style>\n",
       "<table border=\"1\" class=\"dataframe\">\n",
       "  <thead>\n",
       "    <tr style=\"text-align: right;\">\n",
       "      <th></th>\n",
       "      <th>review_id</th>\n",
       "      <th>user_id</th>\n",
       "      <th>business_id</th>\n",
       "      <th>stars</th>\n",
       "      <th>useful</th>\n",
       "      <th>funny</th>\n",
       "      <th>cool</th>\n",
       "      <th>text</th>\n",
       "      <th>date</th>\n",
       "    </tr>\n",
       "  </thead>\n",
       "  <tbody>\n",
       "    <tr>\n",
       "      <th>1094389</th>\n",
       "      <td>rJ3CASyRfG-7ZviCBFCJQg</td>\n",
       "      <td>---1lKK3aKOuomHnwAkAow</td>\n",
       "      <td>f19eLfhXqR47Ct8Hz2y_pA</td>\n",
       "      <td>5.0</td>\n",
       "      <td>0</td>\n",
       "      <td>0</td>\n",
       "      <td>0</td>\n",
       "      <td>I hard think luxurious experience begins to de...</td>\n",
       "      <td>2018-12-19 22:26:22</td>\n",
       "    </tr>\n",
       "    <tr>\n",
       "      <th>2692140</th>\n",
       "      <td>S6qcxvgYMymqVlWcaNDm2Q</td>\n",
       "      <td>---2PmXbF47D870stH1jqA</td>\n",
       "      <td>0ZsqqzHu1HHkDdIKoivi5g</td>\n",
       "      <td>5.0</td>\n",
       "      <td>2</td>\n",
       "      <td>0</td>\n",
       "      <td>2</td>\n",
       "      <td>The TAMPA TREASURE and his TEAM have hit anoth...</td>\n",
       "      <td>2016-08-23 21:25:13</td>\n",
       "    </tr>\n",
       "    <tr>\n",
       "      <th>5792002</th>\n",
       "      <td>c4epF4UIlXj1gvDsBa6cIA</td>\n",
       "      <td>---2PmXbF47D870stH1jqA</td>\n",
       "      <td>1An4DxtMmvvSe0HX4viRCA</td>\n",
       "      <td>5.0</td>\n",
       "      <td>0</td>\n",
       "      <td>0</td>\n",
       "      <td>0</td>\n",
       "      <td>This is our go to restaurant for Italian Food....</td>\n",
       "      <td>2014-11-02 13:47:48</td>\n",
       "    </tr>\n",
       "    <tr>\n",
       "      <th>4552277</th>\n",
       "      <td>NodVS_DFat6-vXLioCGGhg</td>\n",
       "      <td>---2PmXbF47D870stH1jqA</td>\n",
       "      <td>3YqUe2FTCQr0pPVK8oCv6Q</td>\n",
       "      <td>5.0</td>\n",
       "      <td>1</td>\n",
       "      <td>0</td>\n",
       "      <td>1</td>\n",
       "      <td>Girls night out.... Eric T was our waiter.... ...</td>\n",
       "      <td>2015-09-30 12:42:34</td>\n",
       "    </tr>\n",
       "    <tr>\n",
       "      <th>2617903</th>\n",
       "      <td>keNOvKVgHOyIGmZNnMXJHw</td>\n",
       "      <td>---2PmXbF47D870stH1jqA</td>\n",
       "      <td>3gXgILE2YWVidJDvVWBT6Q</td>\n",
       "      <td>5.0</td>\n",
       "      <td>2</td>\n",
       "      <td>0</td>\n",
       "      <td>1</td>\n",
       "      <td>Shame on me for nor writing a review sooner......</td>\n",
       "      <td>2016-05-21 01:10:35</td>\n",
       "    </tr>\n",
       "  </tbody>\n",
       "</table>\n",
       "</div>"
      ],
      "text/plain": [
       "                      review_id                 user_id  \\\n",
       "1094389  rJ3CASyRfG-7ZviCBFCJQg  ---1lKK3aKOuomHnwAkAow   \n",
       "2692140  S6qcxvgYMymqVlWcaNDm2Q  ---2PmXbF47D870stH1jqA   \n",
       "5792002  c4epF4UIlXj1gvDsBa6cIA  ---2PmXbF47D870stH1jqA   \n",
       "4552277  NodVS_DFat6-vXLioCGGhg  ---2PmXbF47D870stH1jqA   \n",
       "2617903  keNOvKVgHOyIGmZNnMXJHw  ---2PmXbF47D870stH1jqA   \n",
       "\n",
       "                    business_id  stars  useful  funny  cool  \\\n",
       "1094389  f19eLfhXqR47Ct8Hz2y_pA    5.0       0      0     0   \n",
       "2692140  0ZsqqzHu1HHkDdIKoivi5g    5.0       2      0     2   \n",
       "5792002  1An4DxtMmvvSe0HX4viRCA    5.0       0      0     0   \n",
       "4552277  3YqUe2FTCQr0pPVK8oCv6Q    5.0       1      0     1   \n",
       "2617903  3gXgILE2YWVidJDvVWBT6Q    5.0       2      0     1   \n",
       "\n",
       "                                                      text                date  \n",
       "1094389  I hard think luxurious experience begins to de... 2018-12-19 22:26:22  \n",
       "2692140  The TAMPA TREASURE and his TEAM have hit anoth... 2016-08-23 21:25:13  \n",
       "5792002  This is our go to restaurant for Italian Food.... 2014-11-02 13:47:48  \n",
       "4552277  Girls night out.... Eric T was our waiter.... ... 2015-09-30 12:42:34  \n",
       "2617903  Shame on me for nor writing a review sooner...... 2016-05-21 01:10:35  "
      ]
     },
     "execution_count": 12,
     "metadata": {},
     "output_type": "execute_result"
    }
   ],
   "source": [
    "train.head()"
   ]
  },
  {
   "cell_type": "code",
   "execution_count": 13,
   "id": "1d31c1a0",
   "metadata": {},
   "outputs": [
    {
     "data": {
      "text/plain": [
       "(np.int64(0), np.int64(0), np.int64(0))"
      ]
     },
     "execution_count": 13,
     "metadata": {},
     "output_type": "execute_result"
    }
   ],
   "source": [
    "train['user_id'].isnull().sum(), train['business_id'].isnull().sum(), train['stars'].isnull().sum()"
   ]
  },
  {
   "cell_type": "code",
   "execution_count": 14,
   "id": "8c939d8e",
   "metadata": {},
   "outputs": [],
   "source": [
    "# Encode IDs to integers\n",
    "train['user_idx'] = train['user_id'].astype('category').cat.codes\n",
    "train['business_idx'] = train['business_id'].astype('category').cat.codes"
   ]
  },
  {
   "cell_type": "code",
   "execution_count": 15,
   "id": "3bc8810d",
   "metadata": {},
   "outputs": [],
   "source": [
    "\n",
    "# Save mappings\n",
    "user_mapping = dict(enumerate(train['user_id'].astype('category').cat.categories))\n",
    "business_mapping = dict(enumerate(train['business_id'].astype('category').cat.categories))\n",
    "\n",
    "# Reverse mappings for lookup (original -> idx)\n",
    "user_to_idx = {v: k for k, v in user_mapping.items()}\n",
    "business_to_idx = {v: k for k, v in business_mapping.items()}"
   ]
  },
  {
   "cell_type": "code",
   "execution_count": null,
   "id": "8149b9db",
   "metadata": {},
   "outputs": [],
   "source": []
  }
 ],
 "metadata": {
  "kernelspec": {
   "display_name": "review-recommendations-py3.11",
   "language": "python",
   "name": "python3"
  },
  "language_info": {
   "codemirror_mode": {
    "name": "ipython",
    "version": 3
   },
   "file_extension": ".py",
   "mimetype": "text/x-python",
   "name": "python",
   "nbconvert_exporter": "python",
   "pygments_lexer": "ipython3",
   "version": "3.11.13"
  }
 },
 "nbformat": 4,
 "nbformat_minor": 5
}
